{
  "nbformat": 4,
  "nbformat_minor": 0,
  "metadata": {
    "colab": {
      "provenance": [],
      "authorship_tag": "ABX9TyP8GbYGOhRu+gw25jcbK705",
      "include_colab_link": true
    },
    "kernelspec": {
      "name": "python3",
      "display_name": "Python 3"
    },
    "language_info": {
      "name": "python"
    }
  },
  "cells": [
    {
      "cell_type": "markdown",
      "metadata": {
        "id": "view-in-github",
        "colab_type": "text"
      },
      "source": [
        "<a href=\"https://colab.research.google.com/github/JI-Siam/CSharp-/blob/main/Python_Lab_task.ipynb\" target=\"_parent\"><img src=\"https://colab.research.google.com/assets/colab-badge.svg\" alt=\"Open In Colab\"/></a>"
      ]
    },
    {
      "cell_type": "code",
      "execution_count": 18,
      "metadata": {
        "colab": {
          "base_uri": "https://localhost:8080/"
        },
        "id": "Dqk9g9X_hYZc",
        "outputId": "57767fec-b763-406b-e7e6-0b14322745b5"
      },
      "outputs": [
        {
          "output_type": "stream",
          "name": "stdout",
          "text": [
            "Enter Student Id to view CGPA : 23-50577-1\n",
            "Name :  Raihanul Islam\n",
            "CGPA of 23-50577-1 : 3.9\n",
            "Enter Number to view Grade: 89\n",
            "Grade : A\n"
          ]
        }
      ],
      "source": [
        "StudentDetails ={\n",
        "    \"23-50574-1\" : {\n",
        "    \"Name\" : \"Jafir Islam Siam\" ,\n",
        "    \"ID\" : \"23-50574-1\" ,\n",
        "    \"CGPA\" : 2.5\n",
        "    }\n",
        "    ,\n",
        "\n",
        "     \"23-50575-1\" : {\n",
        "    \"Name\" : \"Rezvine Nakib Enjoy\" ,\n",
        "    \"ID\" : \"23-50575-1\" ,\n",
        "    \"CGPA\" : 3.68\n",
        "    }\n",
        ",\n",
        "     \"23-50576-1\" : {\n",
        "    \"Name\" : \"Sadman Sakib Rohan\" ,\n",
        "    \"ID\" : \"23-50576-1\" ,\n",
        "    \"CGPA\" : 2.0\n",
        "    },\n",
        "\n",
        "     \"23-50577-1\" : {\n",
        "    \"Name\" : \"Raihanul Islam\" ,\n",
        "    \"ID\" : \"23-50577-1\" ,\n",
        "    \"CGPA\" : 3.9\n",
        "    }\n",
        "}\n",
        "\n",
        "id=input(\"Enter Student Id to view CGPA : \")\n",
        "\n",
        "try :\n",
        "\n",
        "         print(f\"Name : \", StudentDetails[id][\"Name\"])\n",
        "         print(f\"CGPA of {id} :\", StudentDetails[id][\"CGPA\"])\n",
        "\n",
        "except KeyError:\n",
        "    print(\"ID not found / Invalid ID\")\n",
        "\n",
        "\n",
        "marks= float(input(\"Enter Number to view Grade: \"))\n",
        "if marks >= 90 and marks <= 100:\n",
        "  print(\"Grade : A+\")\n",
        "elif marks >=85 and marks < 90 :\n",
        "    print(\"Grade : A\")\n",
        "elif marks >=80 and marks < 85 :\n",
        "    print(\"Grade : B+\")\n",
        "elif marks >=75 and marks < 80 :\n",
        "    print(\"Grade : B\")\n",
        "elif marks >=70 and marks < 75 :\n",
        "    print(\"Grade : C+\")\n",
        "elif marks >=65 and marks < 70 :\n",
        "    print(\"Grade : C\")\n",
        "elif marks >=60 and marks < 65 :\n",
        "    print(\"Grade : D+\")\n",
        "elif marks >=50 and marks < 60 :\n",
        "    print(\"Grade : D\")\n",
        "elif marks < 50 and marks >=0 :\n",
        "    print(\"Grade : F\")\n",
        "else :\n",
        "  print(\"Invalid Marks\")"
      ]
    }
  ]
}